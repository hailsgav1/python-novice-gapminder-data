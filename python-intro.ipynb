{
  "cells": [
    {
      "cell_type": "markdown",
      "source": [
        "# Intro to Python\n",
        "\n",
        "Hi Hailey.\n",
        "**Sniffs are pretty.**\n",
        "\n",
        "This my first sniff notebook."
      ],
      "metadata": {
        "id": "s0ditDfG3qOi"
      }
    },
    {
      "cell_type": "code",
      "source": [
        "age = 25\n",
        "name = \"Ratty\"\n",
        "last_name = \"Fuzzy\""
      ],
      "metadata": {
        "id": "o5GQJyQo4SrB"
      },
      "execution_count": 15,
      "outputs": []
    },
    {
      "cell_type": "code",
      "source": [
        "print (name, 'is', age, 'years old', '.')"
      ],
      "metadata": {
        "id": "KbfKRLnJ5wWT",
        "outputId": "31b8e7f3-1db2-41ce-f432-6705e60160aa",
        "colab": {
          "base_uri": "https://localhost:8080/"
        }
      },
      "execution_count": 13,
      "outputs": [
        {
          "output_type": "stream",
          "name": "stdout",
          "text": [
            "Ratty Fuzz is 25 years old .\n"
          ]
        }
      ]
    },
    {
      "cell_type": "code",
      "source": [
        "print (last_name)\n"
      ],
      "metadata": {
        "id": "WlH3KxL453kn",
        "outputId": "a0d5aaf7-c450-4097-a5e5-78896b1c9128",
        "colab": {
          "base_uri": "https://localhost:8080/"
        }
      },
      "execution_count": 17,
      "outputs": [
        {
          "output_type": "stream",
          "name": "stdout",
          "text": [
            "Fuzzy\n"
          ]
        }
      ]
    },
    {
      "cell_type": "code",
      "source": [
        "print(name, \"will be\", age +10, \"in ten years.\")\n"
      ],
      "metadata": {
        "id": "mzEEL7YT7psA",
        "outputId": "e67d6309-8d09-4c7f-b4ad-eb21dcb5d75a",
        "colab": {
          "base_uri": "https://localhost:8080/"
        }
      },
      "execution_count": 21,
      "outputs": [
        {
          "output_type": "stream",
          "name": "stdout",
          "text": [
            "Ratty will be 35 in ten years.\n"
          ]
        }
      ]
    },
    {
      "cell_type": "code",
      "source": [
        "print(name[2])"
      ],
      "metadata": {
        "id": "DWQnUbeG8NuC",
        "outputId": "a7cbf737-53ef-4c8c-dbc7-ee5dc0b226c2",
        "colab": {
          "base_uri": "https://localhost:8080/"
        }
      },
      "execution_count": 23,
      "outputs": [
        {
          "output_type": "stream",
          "name": "stdout",
          "text": [
            "t\n"
          ]
        }
      ]
    },
    {
      "cell_type": "code",
      "source": [
        "print(name[0])"
      ],
      "metadata": {
        "id": "5BU3UAEZ8l0U",
        "outputId": "6621ac2d-45ee-4521-de22-f555620df627",
        "colab": {
          "base_uri": "https://localhost:8080/"
        }
      },
      "execution_count": 26,
      "outputs": [
        {
          "output_type": "stream",
          "name": "stdout",
          "text": [
            "R\n"
          ]
        }
      ]
    },
    {
      "cell_type": "code",
      "source": [
        "name_substring = name[0:3]\n",
        "print(name_substring)"
      ],
      "metadata": {
        "id": "sRzUZPKu8oZG",
        "outputId": "50790bef-da4c-4fbd-e6a6-82eba2bff9c8",
        "colab": {
          "base_uri": "https://localhost:8080/"
        }
      },
      "execution_count": 31,
      "outputs": [
        {
          "output_type": "stream",
          "name": "stdout",
          "text": [
            "Rat\n"
          ]
        }
      ]
    },
    {
      "cell_type": "code",
      "source": [
        "length_name = len(name)"
      ],
      "metadata": {
        "id": "cTWigVMf9ZbR"
      },
      "execution_count": 33,
      "outputs": []
    },
    {
      "cell_type": "code",
      "source": [
        "print(length_name + 4)"
      ],
      "metadata": {
        "id": "R6bKSHdn94QP",
        "outputId": "399399f6-bc13-4f50-9896-b361d9a7ccc6",
        "colab": {
          "base_uri": "https://localhost:8080/"
        }
      },
      "execution_count": 35,
      "outputs": [
        {
          "output_type": "stream",
          "name": "stdout",
          "text": [
            "9\n"
          ]
        }
      ]
    },
    {
      "cell_type": "code",
      "source": [
        "name = \"Ratty Rat\""
      ],
      "metadata": {
        "id": "PZYeIFeb-QP6"
      },
      "execution_count": 40,
      "outputs": []
    },
    {
      "cell_type": "code",
      "source": [
        "type(age)"
      ],
      "metadata": {
        "id": "aXAjm536_s1e",
        "outputId": "d03c77a9-af79-455d-e5d1-09d03a845d19",
        "colab": {
          "base_uri": "https://localhost:8080/"
        }
      },
      "execution_count": 42,
      "outputs": [
        {
          "output_type": "execute_result",
          "data": {
            "text/plain": [
              "int"
            ]
          },
          "metadata": {},
          "execution_count": 42
        }
      ]
    },
    {
      "cell_type": "code",
      "source": [
        "type(name)"
      ],
      "metadata": {
        "id": "Hz5RdT6RAUYl",
        "outputId": "68d180b6-302c-4953-b91e-765c03cbd022",
        "colab": {
          "base_uri": "https://localhost:8080/"
        }
      },
      "execution_count": 44,
      "outputs": [
        {
          "output_type": "execute_result",
          "data": {
            "text/plain": [
              "str"
            ]
          },
          "metadata": {},
          "execution_count": 44
        }
      ]
    },
    {
      "cell_type": "code",
      "source": [
        "new_age = int(new_age)"
      ],
      "metadata": {
        "id": "nH5Y4m0lAYdf"
      },
      "execution_count": 46,
      "outputs": []
    },
    {
      "cell_type": "code",
      "source": [
        "new_age + 50"
      ],
      "metadata": {
        "id": "3zg765O8A-xS",
        "outputId": "b53ba927-97af-4cb6-c21f-b084cababeee",
        "colab": {
          "base_uri": "https://localhost:8080/"
        }
      },
      "execution_count": 47,
      "outputs": [
        {
          "output_type": "execute_result",
          "data": {
            "text/plain": [
              "70"
            ]
          },
          "metadata": {},
          "execution_count": 47
        }
      ]
    },
    {
      "cell_type": "code",
      "source": [
        "num = 5.0923"
      ],
      "metadata": {
        "id": "F_QhxjqYBqr4"
      },
      "execution_count": 49,
      "outputs": []
    },
    {
      "cell_type": "code",
      "source": [
        "type(num)"
      ],
      "metadata": {
        "id": "Xi8q_gpRCYvr",
        "outputId": "10e93ed6-2b6b-4098-ef08-39de5e24e3ce",
        "colab": {
          "base_uri": "https://localhost:8080/"
        }
      },
      "execution_count": 50,
      "outputs": [
        {
          "output_type": "execute_result",
          "data": {
            "text/plain": [
              "float"
            ]
          },
          "metadata": {},
          "execution_count": 50
        }
      ]
    },
    {
      "cell_type": "code",
      "source": [
        "num - 0.85334"
      ],
      "metadata": {
        "id": "X8wpWfDrCeEn",
        "outputId": "893e2639-08c5-4618-bbe6-772b6c4b09de",
        "colab": {
          "base_uri": "https://localhost:8080/"
        }
      },
      "execution_count": 51,
      "outputs": [
        {
          "output_type": "execute_result",
          "data": {
            "text/plain": [
              "4.23896"
            ]
          },
          "metadata": {},
          "execution_count": 51
        }
      ]
    },
    {
      "cell_type": "code",
      "source": [
        "num * 6"
      ],
      "metadata": {
        "id": "MPuG-GjaCn4S",
        "outputId": "3c0de20a-0a07-42be-e874-a0d347e494fd",
        "colab": {
          "base_uri": "https://localhost:8080/"
        }
      },
      "execution_count": 52,
      "outputs": [
        {
          "output_type": "execute_result",
          "data": {
            "text/plain": [
              "30.5538"
            ]
          },
          "metadata": {},
          "execution_count": 52
        }
      ]
    },
    {
      "cell_type": "code",
      "source": [
        "num / 0.5"
      ],
      "metadata": {
        "id": "Rle-qIZkCrnS",
        "outputId": "7ac280e6-e82f-4244-dbb3-9cd67101ea2e",
        "colab": {
          "base_uri": "https://localhost:8080/"
        }
      },
      "execution_count": 56,
      "outputs": [
        {
          "output_type": "execute_result",
          "data": {
            "text/plain": [
              "10.1846"
            ]
          },
          "metadata": {},
          "execution_count": 56
        }
      ]
    },
    {
      "cell_type": "code",
      "source": [
        "integer = 4\n",
        "print(integer/3)"
      ],
      "metadata": {
        "id": "RKWW0mTXCxz4",
        "outputId": "b8d5ec1a-4b03-46e4-cbe2-15985d8869f7",
        "colab": {
          "base_uri": "https://localhost:8080/"
        }
      },
      "execution_count": 61,
      "outputs": [
        {
          "output_type": "stream",
          "name": "stdout",
          "text": [
            "1.3333333333333333\n"
          ]
        }
      ]
    },
    {
      "cell_type": "code",
      "source": [
        "type(integer/3)"
      ],
      "metadata": {
        "id": "cUi-APycC-aJ",
        "outputId": "d61a3d95-62d7-41ad-cc92-bf510ac4bab8",
        "colab": {
          "base_uri": "https://localhost:8080/"
        }
      },
      "execution_count": 62,
      "outputs": [
        {
          "output_type": "execute_result",
          "data": {
            "text/plain": [
              "float"
            ]
          },
          "metadata": {},
          "execution_count": 62
        }
      ]
    },
    {
      "cell_type": "code",
      "source": [
        "name * 2"
      ],
      "metadata": {
        "id": "MQUaOypLDQ1e",
        "outputId": "46d7f15d-d6a4-40a2-f393-69df2fe968f2",
        "colab": {
          "base_uri": "https://localhost:8080/",
          "height": 35
        }
      },
      "execution_count": 63,
      "outputs": [
        {
          "output_type": "execute_result",
          "data": {
            "text/plain": [
              "'Ratty RatRatty Rat'"
            ],
            "application/vnd.google.colaboratory.intrinsic+json": {
              "type": "string"
            }
          },
          "metadata": {},
          "execution_count": 63
        }
      ]
    },
    {
      "cell_type": "code",
      "source": [
        "name + last_name"
      ],
      "metadata": {
        "id": "rggF6KlLD09p",
        "outputId": "3501a80a-aa21-4423-8efe-a14ac10e68b3",
        "colab": {
          "base_uri": "https://localhost:8080/",
          "height": 35
        }
      },
      "execution_count": 64,
      "outputs": [
        {
          "output_type": "execute_result",
          "data": {
            "text/plain": [
              "'Ratty RatFuzzy'"
            ],
            "application/vnd.google.colaboratory.intrinsic+json": {
              "type": "string"
            }
          },
          "metadata": {},
          "execution_count": 64
        }
      ]
    },
    {
      "cell_type": "code",
      "source": [
        "name + \".\""
      ],
      "metadata": {
        "id": "iBY6iTKzD5_o",
        "outputId": "55595f64-b1fe-4050-a616-2b74cc71dfb1",
        "colab": {
          "base_uri": "https://localhost:8080/",
          "height": 35
        }
      },
      "execution_count": 65,
      "outputs": [
        {
          "output_type": "execute_result",
          "data": {
            "text/plain": [
              "'Ratty Rat.'"
            ],
            "application/vnd.google.colaboratory.intrinsic+json": {
              "type": "string"
            }
          },
          "metadata": {},
          "execution_count": 65
        }
      ]
    },
    {
      "cell_type": "code",
      "source": [
        "#not executed\n"
      ],
      "metadata": {
        "id": "dybjmSUNEFrW"
      },
      "execution_count": null,
      "outputs": []
    }
  ],
  "metadata": {
    "colab": {
      "provenance": []
    },
    "language_info": {
      "name": "python"
    },
    "kernelspec": {
      "name": "python3",
      "display_name": "Python 3"
    }
  },
  "nbformat": 4,
  "nbformat_minor": 0
}